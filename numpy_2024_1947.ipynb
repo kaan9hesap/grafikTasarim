{
  "nbformat": 4,
  "nbformat_minor": 0,
  "metadata": {
    "colab": {
      "provenance": [],
      "authorship_tag": "ABX9TyMQ8XvIliEv2mcwyhNV53O/",
      "include_colab_link": true
    },
    "kernelspec": {
      "name": "python3",
      "display_name": "Python 3"
    },
    "language_info": {
      "name": "python"
    }
  },
  "cells": [
    {
      "cell_type": "markdown",
      "metadata": {
        "id": "view-in-github",
        "colab_type": "text"
      },
      "source": [
        "<a href=\"https://colab.research.google.com/github/kaan9hesap/grafikTasarim/blob/main/numpy_2024_1947.ipynb\" target=\"_parent\"><img src=\"https://colab.research.google.com/assets/colab-badge.svg\" alt=\"Open In Colab\"/></a>"
      ]
    },
    {
      "cell_type": "code",
      "execution_count": 2,
      "metadata": {
        "id": "SxX6O6yrFrx-"
      },
      "outputs": [],
      "source": [
        "import numpy as np"
      ]
    },
    {
      "cell_type": "markdown",
      "source": [
        "# 1) (10,15,30,45,60) değerlerine sahip numpy dizisi oluştur."
      ],
      "metadata": {
        "id": "ZbRgQpyjG2UR"
      }
    },
    {
      "cell_type": "code",
      "source": [
        "result=np.array([10,15,30,45,60])\n",
        "result"
      ],
      "metadata": {
        "colab": {
          "base_uri": "https://localhost:8080/"
        },
        "collapsed": true,
        "id": "_5zEKRCqHAnz",
        "outputId": "9c0629f9-46ea-4620-93c9-5f12bf844f7f"
      },
      "execution_count": 4,
      "outputs": [
        {
          "output_type": "execute_result",
          "data": {
            "text/plain": [
              "array([10, 15, 30, 45, 60])"
            ]
          },
          "metadata": {},
          "execution_count": 4
        }
      ]
    },
    {
      "cell_type": "markdown",
      "source": [
        "# 2) 5-15 arasındaki sayılarla bir dizi oluştur."
      ],
      "metadata": {
        "id": "Wb9ITV57He56"
      }
    },
    {
      "cell_type": "code",
      "source": [
        "result=np.arange(5,15)\n",
        "result"
      ],
      "metadata": {
        "colab": {
          "base_uri": "https://localhost:8080/"
        },
        "id": "ROM2kQ1iHdAF",
        "outputId": "a62c8e3d-e29c-4331-c92d-dd3296f32c1c"
      },
      "execution_count": 5,
      "outputs": [
        {
          "output_type": "execute_result",
          "data": {
            "text/plain": [
              "array([ 5,  6,  7,  8,  9, 10, 11, 12, 13, 14])"
            ]
          },
          "metadata": {},
          "execution_count": 5
        }
      ]
    },
    {
      "cell_type": "markdown",
      "source": [
        "# 3) 50-100 arasında 5'er 5'er bir dizi oluştur."
      ],
      "metadata": {
        "id": "ibENBCZ0H0HC"
      }
    },
    {
      "cell_type": "code",
      "source": [
        "result=np.arange(50,100,5)\n",
        "result"
      ],
      "metadata": {
        "colab": {
          "base_uri": "https://localhost:8080/"
        },
        "id": "uuNeq0R1H7nM",
        "outputId": "f470bf06-c8b8-47b8-c5db-660f463b8fd8"
      },
      "execution_count": 6,
      "outputs": [
        {
          "output_type": "execute_result",
          "data": {
            "text/plain": [
              "array([50, 55, 60, 65, 70, 75, 80, 85, 90, 95])"
            ]
          },
          "metadata": {},
          "execution_count": 6
        }
      ]
    },
    {
      "cell_type": "markdown",
      "source": [
        "# 4) 10 elemanlı sıfırdan oluşan bir dizi oluşturunuz."
      ],
      "metadata": {
        "id": "D3bJJsMPIbaU"
      }
    },
    {
      "cell_type": "code",
      "source": [
        "result=np.zeros(10)\n",
        "result"
      ],
      "metadata": {
        "colab": {
          "base_uri": "https://localhost:8080/"
        },
        "id": "UJMhNnVtJrjO",
        "outputId": "82986e03-ae55-49e4-e541-83826673dd89"
      },
      "execution_count": 7,
      "outputs": [
        {
          "output_type": "execute_result",
          "data": {
            "text/plain": [
              "array([0., 0., 0., 0., 0., 0., 0., 0., 0., 0.])"
            ]
          },
          "metadata": {},
          "execution_count": 7
        }
      ]
    },
    {
      "cell_type": "markdown",
      "source": [
        "# 5) 10 elemanlı birlerden oluşan bir dizi oluşturunuz."
      ],
      "metadata": {
        "id": "xZXN5R_MJzGQ"
      }
    },
    {
      "cell_type": "code",
      "source": [
        "result=np.ones(10)\n",
        "result"
      ],
      "metadata": {
        "colab": {
          "base_uri": "https://localhost:8080/"
        },
        "id": "xTm360QBJ5no",
        "outputId": "92d970b6-fb4f-4ecf-e23c-5f7c69592f07"
      },
      "execution_count": 8,
      "outputs": [
        {
          "output_type": "execute_result",
          "data": {
            "text/plain": [
              "array([1., 1., 1., 1., 1., 1., 1., 1., 1., 1.])"
            ]
          },
          "metadata": {},
          "execution_count": 8
        }
      ]
    },
    {
      "cell_type": "markdown",
      "source": [
        "# 6) 0-100 arasında eşit aralıklı 5 sayı üretin.\n",
        "\n"
      ],
      "metadata": {
        "id": "GZMCzqCPKB8L"
      }
    },
    {
      "cell_type": "code",
      "source": [
        "result=np.linspace(0,100,5)\n",
        "result"
      ],
      "metadata": {
        "colab": {
          "base_uri": "https://localhost:8080/"
        },
        "id": "zi79FdocKMea",
        "outputId": "bea47bea-e251-4c0c-d381-0ba1400b98b9"
      },
      "execution_count": 9,
      "outputs": [
        {
          "output_type": "execute_result",
          "data": {
            "text/plain": [
              "array([  0.,  25.,  50.,  75., 100.])"
            ]
          },
          "metadata": {},
          "execution_count": 9
        }
      ]
    },
    {
      "cell_type": "markdown",
      "source": [
        "# 7) 10-30 arasında rastgele 5 tamsayı üretin."
      ],
      "metadata": {
        "id": "IUi6jJpAKUhC"
      }
    },
    {
      "cell_type": "code",
      "source": [
        "result=np.random.randint(10,30,5)\n",
        "result"
      ],
      "metadata": {
        "colab": {
          "base_uri": "https://localhost:8080/"
        },
        "id": "8v0c8y0KKd6l",
        "outputId": "56a78023-462a-4c23-dc90-ea8d21b6d275"
      },
      "execution_count": 10,
      "outputs": [
        {
          "output_type": "execute_result",
          "data": {
            "text/plain": [
              "array([18, 28, 19, 25, 24])"
            ]
          },
          "metadata": {},
          "execution_count": 10
        }
      ]
    },
    {
      "cell_type": "markdown",
      "source": [
        "# 8) -1 ile 1 arasında 10 adet sayı üretin."
      ],
      "metadata": {
        "id": "uK_LYJnRKlGZ"
      }
    },
    {
      "cell_type": "code",
      "source": [
        "result=np.random.randn(10)\n",
        "result"
      ],
      "metadata": {
        "colab": {
          "base_uri": "https://localhost:8080/"
        },
        "id": "YrKRD3t3KtJZ",
        "outputId": "10c6ec23-5192-4689-b96c-1c1d7a320b29"
      },
      "execution_count": 11,
      "outputs": [
        {
          "output_type": "execute_result",
          "data": {
            "text/plain": [
              "array([-0.86170859, -0.66507991, -0.02277748,  0.36886881, -0.42646838,\n",
              "       -1.71752861, -0.85835342,  0.75812104,  0.18606373, -0.9692679 ])"
            ]
          },
          "metadata": {},
          "execution_count": 11
        }
      ]
    },
    {
      "cell_type": "markdown",
      "source": [
        "# 9) 3x5 boyutlarında 10-50 arasında rastgele bir matris oluşturunuz."
      ],
      "metadata": {
        "id": "bvQZolEoKxnm"
      }
    },
    {
      "cell_type": "code",
      "source": [
        "result=np.random.randint(10,50,15).reshape(3,5)\n",
        "result"
      ],
      "metadata": {
        "colab": {
          "base_uri": "https://localhost:8080/"
        },
        "id": "aahQxVl-K-fQ",
        "outputId": "51dfc556-6dba-4131-b709-9a91aec75475"
      },
      "execution_count": 13,
      "outputs": [
        {
          "output_type": "execute_result",
          "data": {
            "text/plain": [
              "array([[36, 14, 22, 33, 40],\n",
              "       [11, 47, 37, 41, 40],\n",
              "       [48, 33, 12, 15, 28]])"
            ]
          },
          "metadata": {},
          "execution_count": 13
        }
      ]
    },
    {
      "cell_type": "markdown",
      "source": [
        "# 10) Üretilen matrisin satır ve sütün sayıları toplamlarını hesaplayınız ?"
      ],
      "metadata": {
        "id": "8_2yPGKsLGTX"
      }
    },
    {
      "cell_type": "code",
      "source": [
        "matris=np.random.randint(10,50,15).reshape(3,5)\n",
        "satir=matris.sum(axis=1)\n",
        "sutun=matris.sum(axis=0)\n",
        "print(satir)\n",
        "print(sutun)"
      ],
      "metadata": {
        "colab": {
          "base_uri": "https://localhost:8080/"
        },
        "id": "Od4p7RyPLRQT",
        "outputId": "4545ec33-d5eb-4d8d-fdf1-6aac4dea39c9"
      },
      "execution_count": 14,
      "outputs": [
        {
          "output_type": "stream",
          "name": "stdout",
          "text": [
            "[176 143 162]\n",
            "[ 72 119  64 108 118]\n"
          ]
        }
      ]
    },
    {
      "cell_type": "markdown",
      "source": [
        "# 11) Üretilen matrisin en büyük, en küçük ve ortalaması nedir ?\n",
        "\n"
      ],
      "metadata": {
        "id": "A6CvfRv0Liys"
      }
    },
    {
      "cell_type": "code",
      "source": [
        "matris=np.random.randint(10,50,15).reshape(3,5)\n",
        "\n",
        "result = matris.max()\n",
        "print(result)\n",
        "\n",
        "result = matris.min()\n",
        "print(result)\n",
        "\n",
        "result = matris.mean()\n",
        "print(result)"
      ],
      "metadata": {
        "colab": {
          "base_uri": "https://localhost:8080/"
        },
        "id": "ySglcN_1Ls3d",
        "outputId": "718d8abf-4b5c-4ee8-a937-53eba406c4b2"
      },
      "execution_count": 17,
      "outputs": [
        {
          "output_type": "stream",
          "name": "stdout",
          "text": [
            "47\n",
            "12\n",
            "34.666666666666664\n"
          ]
        }
      ]
    },
    {
      "cell_type": "markdown",
      "source": [
        "# 12) Üretilen matrisin en büyük değerinin indexi kaçtır ?"
      ],
      "metadata": {
        "id": "rqsHEH_AL9Bt"
      }
    },
    {
      "cell_type": "code",
      "source": [
        "matris=np.random.randint(10,50,15).reshape(3,5)\n",
        "\n",
        "result = matris.argmax()\n",
        "print(result)\n",
        "\n",
        "result = matris.argmin()\n",
        "print(result)"
      ],
      "metadata": {
        "colab": {
          "base_uri": "https://localhost:8080/"
        },
        "id": "qGOxdIIwMDEn",
        "outputId": "ede56053-fcb9-4131-9144-57879ec06ced"
      },
      "execution_count": 18,
      "outputs": [
        {
          "output_type": "stream",
          "name": "stdout",
          "text": [
            "7\n",
            "8\n"
          ]
        }
      ]
    },
    {
      "cell_type": "markdown",
      "source": [
        "# 13) 10-20 arasındaki sayıları içeren dizinin ilk 3 elemanını seçiniz."
      ],
      "metadata": {
        "id": "QQkioKayMQK_"
      }
    },
    {
      "cell_type": "code",
      "source": [
        "arr = np.arange(10,20)\n",
        "print(arr)\n",
        "\n",
        "result = arr[:3]\n",
        "print(result)\n",
        "\n",
        "result = arr[::-1]\n",
        "print(result)"
      ],
      "metadata": {
        "colab": {
          "base_uri": "https://localhost:8080/"
        },
        "id": "5o5_2v9UMYZe",
        "outputId": "faf509fb-f189-4d34-8673-d3c8c51962fc"
      },
      "execution_count": 19,
      "outputs": [
        {
          "output_type": "stream",
          "name": "stdout",
          "text": [
            "[10 11 12 13 14 15 16 17 18 19]\n",
            "[10 11 12]\n",
            "[19 18 17 16 15 14 13 12 11 10]\n"
          ]
        }
      ]
    },
    {
      "cell_type": "markdown",
      "source": [
        "# 14) Üretilen dizinin elemanlarını tersten yazdırın."
      ],
      "metadata": {
        "id": "9OjOiku_Mq2Z"
      }
    },
    {
      "cell_type": "code",
      "source": [
        "result=arr[::-1]\n",
        "result"
      ],
      "metadata": {
        "colab": {
          "base_uri": "https://localhost:8080/"
        },
        "id": "Ij7ikXxxMxAs",
        "outputId": "8c8bef0e-50ea-444f-c755-2976c893eecd"
      },
      "execution_count": 20,
      "outputs": [
        {
          "output_type": "execute_result",
          "data": {
            "text/plain": [
              "array([19, 18, 17, 16, 15, 14, 13, 12, 11, 10])"
            ]
          },
          "metadata": {},
          "execution_count": 20
        }
      ]
    },
    {
      "cell_type": "markdown",
      "source": [
        "# 15) Üretilen matrisin ilk satırını seçiniz."
      ],
      "metadata": {
        "id": "SegUvJaIM8gj"
      }
    },
    {
      "cell_type": "code",
      "source": [
        "matris=np.random.randint(10,50,15).reshape(3,5)\n",
        "result=matris[0]\n",
        "result"
      ],
      "metadata": {
        "colab": {
          "base_uri": "https://localhost:8080/"
        },
        "id": "OtBx7-rmNA-M",
        "outputId": "878fa74a-181f-4d00-aae6-cc274ea08d96"
      },
      "execution_count": 23,
      "outputs": [
        {
          "output_type": "execute_result",
          "data": {
            "text/plain": [
              "array([39, 14, 11, 36, 47])"
            ]
          },
          "metadata": {},
          "execution_count": 23
        }
      ]
    },
    {
      "cell_type": "markdown",
      "source": [
        "# 16) Üretilen matrisin 2. satır 3. sütundaki elemanı hangisidir ?"
      ],
      "metadata": {
        "id": "yxAIGM5qNM-R"
      }
    },
    {
      "cell_type": "code",
      "source": [
        "matris=np.random.randint(10,50,15).reshape(3,5)\n",
        "result=matris[1,2]\n",
        "result"
      ],
      "metadata": {
        "colab": {
          "base_uri": "https://localhost:8080/"
        },
        "id": "rd0Mk-CMNXAx",
        "outputId": "aff5873d-ba50-48ac-90e3-8a804977516b"
      },
      "execution_count": 24,
      "outputs": [
        {
          "output_type": "execute_result",
          "data": {
            "text/plain": [
              "47"
            ]
          },
          "metadata": {},
          "execution_count": 24
        }
      ]
    },
    {
      "cell_type": "markdown",
      "source": [
        "# 17) Üretilen matrisin tüm satırlardaki ilk elemanı seçiniz."
      ],
      "metadata": {
        "id": "tdPxI1VBNhRD"
      }
    },
    {
      "cell_type": "code",
      "source": [
        "matris=np.random.randint(10,50,15).reshape(3,5)\n",
        "result=matris[:, 0]\n",
        "result"
      ],
      "metadata": {
        "colab": {
          "base_uri": "https://localhost:8080/"
        },
        "id": "r2YF_Qg4NsiE",
        "outputId": "9b357254-cc28-47eb-966c-0b90895009ce"
      },
      "execution_count": 25,
      "outputs": [
        {
          "output_type": "execute_result",
          "data": {
            "text/plain": [
              "array([16, 31, 15])"
            ]
          },
          "metadata": {},
          "execution_count": 25
        }
      ]
    },
    {
      "cell_type": "markdown",
      "source": [
        "# 18) Üretilen matrisin her bir elemanının karesini alınız."
      ],
      "metadata": {
        "id": "AbkMearlN-K6"
      }
    },
    {
      "cell_type": "code",
      "source": [
        "matris=np.random.randint(10,50,15).reshape(3,5)\n",
        "result=matris**2\n",
        "result"
      ],
      "metadata": {
        "colab": {
          "base_uri": "https://localhost:8080/"
        },
        "id": "5TsZHt78ODYV",
        "outputId": "a69364e5-9407-449b-9dbd-1ebd013867e5"
      },
      "execution_count": 26,
      "outputs": [
        {
          "output_type": "execute_result",
          "data": {
            "text/plain": [
              "array([[1369,  324,  400,  100,  676],\n",
              "       [ 484,  961, 1444, 2025,  441],\n",
              "       [2116,  400,  100,  225, 2304]])"
            ]
          },
          "metadata": {},
          "execution_count": 26
        }
      ]
    },
    {
      "cell_type": "markdown",
      "source": [
        "# 19) Üretilen metris elemanlarının hangisi pozitif çift sayıdır?\n",
        "# 19.1) Aralğı -50, +50 arasında yapınız."
      ],
      "metadata": {
        "id": "TVJlz_qTOMji"
      }
    },
    {
      "cell_type": "code",
      "source": [
        "matris=np.random.randint(10,50,15).reshape(3,5)\n",
        "result = matris % 2 == 0\n",
        "result"
      ],
      "metadata": {
        "colab": {
          "base_uri": "https://localhost:8080/"
        },
        "id": "YPTMd3iNOf99",
        "outputId": "f870acc2-8071-4337-b068-947e7d8cba8d"
      },
      "execution_count": 27,
      "outputs": [
        {
          "output_type": "execute_result",
          "data": {
            "text/plain": [
              "array([[ True,  True,  True,  True,  True],\n",
              "       [False, False,  True,  True,  True],\n",
              "       [False,  True,  True,  True, False]])"
            ]
          },
          "metadata": {},
          "execution_count": 27
        }
      ]
    }
  ]
}